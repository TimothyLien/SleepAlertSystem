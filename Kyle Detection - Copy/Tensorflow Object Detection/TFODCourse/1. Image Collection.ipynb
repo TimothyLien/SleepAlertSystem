{
 "cells": [
  {
   "cell_type": "markdown",
   "metadata": {},
   "source": [
    "# 1. Import Dependencies"
   ]
  },
  {
   "cell_type": "code",
   "execution_count": 1,
   "metadata": {},
   "outputs": [
    {
     "name": "stdout",
     "output_type": "stream",
     "text": [
      "Collecting opencv-python\n",
      "  Using cached opencv_python-4.8.0.74-cp37-abi3-win_amd64.whl (38.1 MB)\n",
      "Collecting numpy>=1.17.0 (from opencv-python)\n",
      "  Downloading numpy-1.25.1-cp39-cp39-win_amd64.whl (15.1 MB)\n",
      "                                              0.0/15.1 MB ? eta -:--:--\n",
      "                                              0.3/15.1 MB 8.6 MB/s eta 0:00:02\n",
      "     -                                        0.6/15.1 MB 7.2 MB/s eta 0:00:03\n",
      "     --                                       1.0/15.1 MB 7.0 MB/s eta 0:00:03\n",
      "     ---                                      1.3/15.1 MB 7.1 MB/s eta 0:00:02\n",
      "     ----                                     1.6/15.1 MB 7.2 MB/s eta 0:00:02\n",
      "     -----                                    2.0/15.1 MB 7.2 MB/s eta 0:00:02\n",
      "     ------                                   2.4/15.1 MB 7.3 MB/s eta 0:00:02\n",
      "     -------                                  2.8/15.1 MB 7.6 MB/s eta 0:00:02\n",
      "     -------                                  2.9/15.1 MB 7.4 MB/s eta 0:00:02\n",
      "     -------                                  2.9/15.1 MB 7.4 MB/s eta 0:00:02\n",
      "     -------                                  2.9/15.1 MB 5.6 MB/s eta 0:00:03\n",
      "     -------                                  3.0/15.1 MB 5.5 MB/s eta 0:00:03\n",
      "     --------                                 3.2/15.1 MB 5.2 MB/s eta 0:00:03\n",
      "     --------                                 3.2/15.1 MB 5.0 MB/s eta 0:00:03\n",
      "     --------                                 3.2/15.1 MB 4.8 MB/s eta 0:00:03\n",
      "     --------                                 3.2/15.1 MB 4.8 MB/s eta 0:00:03\n",
      "     --------                                 3.3/15.1 MB 4.1 MB/s eta 0:00:03\n",
      "     --------                                 3.4/15.1 MB 4.1 MB/s eta 0:00:03\n",
      "     --------                                 3.4/15.1 MB 4.1 MB/s eta 0:00:03\n",
      "     ---------                                3.4/15.1 MB 3.6 MB/s eta 0:00:04\n",
      "     ---------                                3.4/15.1 MB 3.5 MB/s eta 0:00:04\n",
      "     ---------                                3.5/15.1 MB 3.4 MB/s eta 0:00:04\n",
      "     ---------                                3.6/15.1 MB 3.4 MB/s eta 0:00:04\n",
      "     ---------                                3.7/15.1 MB 3.3 MB/s eta 0:00:04\n",
      "     ----------                               4.0/15.1 MB 3.5 MB/s eta 0:00:04\n",
      "     -----------                              4.3/15.1 MB 3.5 MB/s eta 0:00:04\n",
      "     ------------                             4.7/15.1 MB 3.8 MB/s eta 0:00:03\n",
      "     ------------                             4.9/15.1 MB 3.7 MB/s eta 0:00:03\n",
      "     -------------                            5.1/15.1 MB 3.8 MB/s eta 0:00:03\n",
      "     -------------                            5.2/15.1 MB 3.7 MB/s eta 0:00:03\n",
      "     --------------                           5.4/15.1 MB 3.7 MB/s eta 0:00:03\n",
      "     --------------                           5.6/15.1 MB 3.7 MB/s eta 0:00:03\n",
      "     ---------------                          5.8/15.1 MB 3.8 MB/s eta 0:00:03\n",
      "     ----------------                         6.1/15.1 MB 3.8 MB/s eta 0:00:03\n",
      "     ----------------                         6.4/15.1 MB 3.9 MB/s eta 0:00:03\n",
      "     -----------------                        6.5/15.1 MB 3.8 MB/s eta 0:00:03\n",
      "     ------------------                       6.8/15.1 MB 3.9 MB/s eta 0:00:03\n",
      "     ------------------                       7.1/15.1 MB 4.0 MB/s eta 0:00:02\n",
      "     -------------------                      7.3/15.1 MB 4.0 MB/s eta 0:00:02\n",
      "     --------------------                     7.6/15.1 MB 4.1 MB/s eta 0:00:02\n",
      "     ---------------------                    8.0/15.1 MB 4.2 MB/s eta 0:00:02\n",
      "     ---------------------                    8.2/15.1 MB 4.2 MB/s eta 0:00:02\n",
      "     ----------------------                   8.3/15.1 MB 4.2 MB/s eta 0:00:02\n",
      "     ----------------------                   8.6/15.1 MB 4.2 MB/s eta 0:00:02\n",
      "     -----------------------                  8.9/15.1 MB 4.2 MB/s eta 0:00:02\n",
      "     ------------------------                 9.1/15.1 MB 4.3 MB/s eta 0:00:02\n",
      "     ------------------------                 9.4/15.1 MB 4.3 MB/s eta 0:00:02\n",
      "     --------------------------               9.8/15.1 MB 4.4 MB/s eta 0:00:02\n",
      "     --------------------------               10.0/15.1 MB 4.4 MB/s eta 0:00:02\n",
      "     ---------------------------              10.2/15.1 MB 4.4 MB/s eta 0:00:02\n",
      "     ----------------------------             10.6/15.1 MB 4.4 MB/s eta 0:00:02\n",
      "     -----------------------------            11.0/15.1 MB 4.4 MB/s eta 0:00:01\n",
      "     -----------------------------            11.1/15.1 MB 4.3 MB/s eta 0:00:01\n",
      "     ------------------------------           11.4/15.1 MB 4.3 MB/s eta 0:00:01\n",
      "     ------------------------------           11.6/15.1 MB 4.3 MB/s eta 0:00:01\n",
      "     -------------------------------          11.9/15.1 MB 4.3 MB/s eta 0:00:01\n",
      "     --------------------------------         12.2/15.1 MB 4.3 MB/s eta 0:00:01\n",
      "     --------------------------------         12.4/15.1 MB 4.2 MB/s eta 0:00:01\n",
      "     ----------------------------------       13.0/15.1 MB 4.3 MB/s eta 0:00:01\n",
      "     -----------------------------------      13.2/15.1 MB 4.4 MB/s eta 0:00:01\n",
      "     -----------------------------------      13.5/15.1 MB 4.8 MB/s eta 0:00:01\n",
      "     ------------------------------------     13.8/15.1 MB 5.4 MB/s eta 0:00:01\n",
      "     -------------------------------------    14.2/15.1 MB 5.4 MB/s eta 0:00:01\n",
      "     ---------------------------------------  14.7/15.1 MB 5.5 MB/s eta 0:00:01\n",
      "     ---------------------------------------  15.1/15.1 MB 5.5 MB/s eta 0:00:01\n",
      "     ---------------------------------------  15.1/15.1 MB 5.5 MB/s eta 0:00:01\n",
      "     ---------------------------------------- 15.1/15.1 MB 5.2 MB/s eta 0:00:00\n",
      "Installing collected packages: numpy, opencv-python\n",
      "Successfully installed numpy-1.25.1 opencv-python-4.8.0.74\n"
     ]
    }
   ],
   "source": [
    "!pip install opencv-python"
   ]
  },
  {
   "cell_type": "code",
   "execution_count": 3,
   "metadata": {},
   "outputs": [],
   "source": [
    "# Import opencv\n",
    "import cv2 \n",
    "\n",
    "# Import uuid\n",
    "import uuid\n",
    "\n",
    "# Import Operating System\n",
    "import os\n",
    "\n",
    "# Import time\n",
    "import time"
   ]
  },
  {
   "cell_type": "markdown",
   "metadata": {},
   "source": [
    "# 2. Define Images to Collect"
   ]
  },
  {
   "cell_type": "code",
   "execution_count": 11,
   "metadata": {},
   "outputs": [],
   "source": [
    "labels = ['normal', 'asleep']\n",
    "number_imgs = 20"
   ]
  },
  {
   "cell_type": "markdown",
   "metadata": {},
   "source": [
    "# 3. Setup Folders "
   ]
  },
  {
   "cell_type": "code",
   "execution_count": 9,
   "metadata": {},
   "outputs": [],
   "source": [
    "IMAGES_PATH = os.path.join('Tensorflow', 'workspace', 'images', 'collectedimages')"
   ]
  },
  {
   "cell_type": "code",
   "execution_count": 12,
   "metadata": {},
   "outputs": [],
   "source": [
    "if not os.path.exists(IMAGES_PATH):\n",
    "    if os.name == 'posix':\n",
    "        !mkdir -p {IMAGES_PATH}\n",
    "    if os.name == 'nt':\n",
    "         !mkdir {IMAGES_PATH}\n",
    "for label in labels:\n",
    "    path = os.path.join(IMAGES_PATH, label)\n",
    "    if not os.path.exists(path):\n",
    "        !mkdir {path}"
   ]
  },
  {
   "cell_type": "markdown",
   "metadata": {},
   "source": [
    "# 4. Capture Images"
   ]
  },
  {
   "cell_type": "code",
   "execution_count": 18,
   "metadata": {},
   "outputs": [
    {
     "name": "stdout",
     "output_type": "stream",
     "text": [
      "Collecting images for thumbsup\n",
      "Collecting image 0\n",
      "Collecting image 1\n",
      "Collecting image 2\n",
      "Collecting image 3\n",
      "Collecting image 4\n"
     ]
    }
   ],
   "source": [
    "# for label in labels:\n",
    "#     cap = cv2.VideoCapture(0)\n",
    "#     print('Collecting images for {}'.format(label))\n",
    "#     time.sleep(5)\n",
    "#     for imgnum in range(number_imgs):\n",
    "#         print('Collecting image {}'.format(imgnum))\n",
    "#         ret, frame = cap.read()\n",
    "#         imgname = os.path.join(IMAGES_PATH,label,label+'.'+'{}.jpg'.format(str(uuid.uuid1())))\n",
    "#         cv2.imwrite(imgname, frame)\n",
    "#         cv2.imshow('frame', frame)\n",
    "#         time.sleep(2)\n",
    "\n",
    "#         if cv2.waitKey(1) & 0xFF == ord('q'):\n",
    "#             break\n",
    "# cap.release()\n",
    "# cv2.destroyAllWindows()"
   ]
  },
  {
   "cell_type": "markdown",
   "metadata": {},
   "source": [
    "# 5. Image Labelling"
   ]
  },
  {
   "cell_type": "code",
   "execution_count": 3,
   "metadata": {},
   "outputs": [
    {
     "name": "stdout",
     "output_type": "stream",
     "text": [
      "Collecting pyqt5\n",
      "  Using cached PyQt5-5.15.9-cp37-abi3-win_amd64.whl (6.8 MB)\n",
      "Collecting lxml\n",
      "  Downloading lxml-4.9.3-cp39-cp39-win_amd64.whl (3.9 MB)\n",
      "                                              0.0/3.9 MB ? eta -:--:--\n",
      "     --                                       0.3/3.9 MB 5.2 MB/s eta 0:00:01\n",
      "     ---                                      0.3/3.9 MB 3.2 MB/s eta 0:00:02\n",
      "     -----                                    0.5/3.9 MB 3.4 MB/s eta 0:00:01\n",
      "     -------                                  0.7/3.9 MB 3.6 MB/s eta 0:00:01\n",
      "     --------                                 0.8/3.9 MB 3.4 MB/s eta 0:00:01\n",
      "     -----------                              1.2/3.9 MB 4.1 MB/s eta 0:00:01\n",
      "     --------------                           1.4/3.9 MB 4.3 MB/s eta 0:00:01\n",
      "     -----------------                        1.7/3.9 MB 4.5 MB/s eta 0:00:01\n",
      "     --------------------                     2.0/3.9 MB 4.7 MB/s eta 0:00:01\n",
      "     -----------------------                  2.3/3.9 MB 5.0 MB/s eta 0:00:01\n",
      "     ---------------------------              2.6/3.9 MB 5.3 MB/s eta 0:00:01\n",
      "     ----------------------------             2.7/3.9 MB 4.9 MB/s eta 0:00:01\n",
      "     -------------------------------          3.1/3.9 MB 5.0 MB/s eta 0:00:01\n",
      "     -----------------------------------      3.5/3.9 MB 5.3 MB/s eta 0:00:01\n",
      "     --------------------------------------   3.8/3.9 MB 5.4 MB/s eta 0:00:01\n",
      "     ---------------------------------------- 3.9/3.9 MB 5.2 MB/s eta 0:00:00\n",
      "Collecting PyQt5-sip<13,>=12.11 (from pyqt5)\n",
      "  Downloading PyQt5_sip-12.12.1-cp39-cp39-win_amd64.whl (78 kB)\n",
      "                                              0.0/78.4 kB ? eta -:--:--\n",
      "     ---------------------------------------- 78.4/78.4 kB 2.2 MB/s eta 0:00:00\n",
      "Collecting PyQt5-Qt5>=5.15.2 (from pyqt5)\n",
      "  Using cached PyQt5_Qt5-5.15.2-py3-none-win_amd64.whl (50.1 MB)\n",
      "Installing collected packages: PyQt5-Qt5, PyQt5-sip, lxml, pyqt5\n",
      "Successfully installed PyQt5-Qt5-5.15.2 PyQt5-sip-12.12.1 lxml-4.9.3 pyqt5-5.15.9\n"
     ]
    }
   ],
   "source": [
    "!pip install --upgrade pyqt5 lxml"
   ]
  },
  {
   "cell_type": "code",
   "execution_count": 4,
   "metadata": {},
   "outputs": [],
   "source": [
    "LABELIMG_PATH = os.path.join('Tensorflow', 'labelimg')"
   ]
  },
  {
   "cell_type": "code",
   "execution_count": 6,
   "metadata": {},
   "outputs": [
    {
     "name": "stderr",
     "output_type": "stream",
     "text": [
      "Cloning into 'Tensorflow\\labelimg'...\n"
     ]
    }
   ],
   "source": [
    "if not os.path.exists(LABELIMG_PATH):\n",
    "    !mkdir {LABELIMG_PATH}\n",
    "    !git clone https://github.com/tzutalin/labelImg {LABELIMG_PATH}"
   ]
  },
  {
   "cell_type": "code",
   "execution_count": 3,
   "metadata": {},
   "outputs": [
    {
     "data": {
      "text/plain": [
       "'nt'"
      ]
     },
     "execution_count": 3,
     "metadata": {},
     "output_type": "execute_result"
    },
    {
     "ename": "",
     "evalue": "",
     "output_type": "error",
     "traceback": [
      "\u001b[1;31mThe Kernel crashed while executing code in the the current cell or a previous cell. Please review the code in the cell(s) to identify a possible cause of the failure. Click <a href='https://aka.ms/vscodeJupyterKernelCrash'>here</a> for more info. View Jupyter <a href='command:jupyter.viewOutput'>log</a> for further details."
     ]
    }
   ],
   "source": [
    "os.name"
   ]
  },
  {
   "cell_type": "code",
   "execution_count": 5,
   "metadata": {},
   "outputs": [],
   "source": [
    "if os.name == 'posix':\n",
    "    !make qt5py3\n",
    "if os.name =='nt':\n",
    "    !cd {LABELIMG_PATH} && pyrcc5 -o libs/resources.py resources.qrc"
   ]
  },
  {
   "cell_type": "code",
   "execution_count": 8,
   "metadata": {},
   "outputs": [
    {
     "name": "stdout",
     "output_type": "stream",
     "text": [
      "Image:C:\\Users\\timli\\Kyle Detection\\Tensorflow Object Detection\\TFODCourse\\Tensorflow\\workspace\\images\\asleep\\16H-18M-50S.png -> Annotation:C:/Users/timli/Kyle Detection/Tensorflow Object Detection/TFODCourse/Tensorflow/workspace/images/asleep\\16H-18M-50S.xml\n",
      "Image:C:\\Users\\timli\\Kyle Detection\\Tensorflow Object Detection\\TFODCourse\\Tensorflow\\workspace\\images\\asleep\\16H-1M-10S.png -> Annotation:C:/Users/timli/Kyle Detection/Tensorflow Object Detection/TFODCourse/Tensorflow/workspace/images/asleep\\16H-1M-10S.xml\n",
      "Image:C:\\Users\\timli\\Kyle Detection\\Tensorflow Object Detection\\TFODCourse\\Tensorflow\\workspace\\images\\asleep\\16H-1M-20S.png -> Annotation:C:/Users/timli/Kyle Detection/Tensorflow Object Detection/TFODCourse/Tensorflow/workspace/images/asleep\\16H-1M-20S.xml\n",
      "Image:C:\\Users\\timli\\Kyle Detection\\Tensorflow Object Detection\\TFODCourse\\Tensorflow\\workspace\\images\\asleep\\16H-1M-30S.png -> Annotation:C:/Users/timli/Kyle Detection/Tensorflow Object Detection/TFODCourse/Tensorflow/workspace/images/asleep\\16H-1M-30S.xml\n",
      "Image:C:\\Users\\timli\\Kyle Detection\\Tensorflow Object Detection\\TFODCourse\\Tensorflow\\workspace\\images\\asleep\\16H-1M-40S.png -> Annotation:C:/Users/timli/Kyle Detection/Tensorflow Object Detection/TFODCourse/Tensorflow/workspace/images/asleep\\16H-1M-40S.xml\n",
      "Image:C:\\Users\\timli\\Kyle Detection\\Tensorflow Object Detection\\TFODCourse\\Tensorflow\\workspace\\images\\asleep\\16H-1M-50S.png -> Annotation:C:/Users/timli/Kyle Detection/Tensorflow Object Detection/TFODCourse/Tensorflow/workspace/images/asleep\\16H-1M-50S.xml\n",
      "Image:C:\\Users\\timli\\Kyle Detection\\Tensorflow Object Detection\\TFODCourse\\Tensorflow\\workspace\\images\\asleep\\16H-2M-0S.png -> Annotation:C:/Users/timli/Kyle Detection/Tensorflow Object Detection/TFODCourse/Tensorflow/workspace/images/asleep\\16H-2M-0S.xml\n",
      "Image:C:\\Users\\timli\\Kyle Detection\\Tensorflow Object Detection\\TFODCourse\\Tensorflow\\workspace\\images\\asleep\\16H-2M-10S.png -> Annotation:C:/Users/timli/Kyle Detection/Tensorflow Object Detection/TFODCourse/Tensorflow/workspace/images/asleep\\16H-2M-10S.xml\n",
      "Image:C:\\Users\\timli\\Kyle Detection\\Tensorflow Object Detection\\TFODCourse\\Tensorflow\\workspace\\images\\asleep\\16H-2M-20S.png -> Annotation:C:/Users/timli/Kyle Detection/Tensorflow Object Detection/TFODCourse/Tensorflow/workspace/images/asleep\\16H-2M-20S.xml\n",
      "Image:C:\\Users\\timli\\Kyle Detection\\Tensorflow Object Detection\\TFODCourse\\Tensorflow\\workspace\\images\\asleep\\16H-2M-30S.png -> Annotation:C:/Users/timli/Kyle Detection/Tensorflow Object Detection/TFODCourse/Tensorflow/workspace/images/asleep\\16H-2M-30S.xml\n",
      "Image:C:\\Users\\timli\\Kyle Detection\\Tensorflow Object Detection\\TFODCourse\\Tensorflow\\workspace\\images\\asleep\\16H-2M-40S.png -> Annotation:C:/Users/timli/Kyle Detection/Tensorflow Object Detection/TFODCourse/Tensorflow/workspace/images/asleep\\16H-2M-40S.xml\n",
      "Image:C:\\Users\\timli\\Kyle Detection\\Tensorflow Object Detection\\TFODCourse\\Tensorflow\\workspace\\images\\asleep\\16H-2M-50S.png -> Annotation:C:/Users/timli/Kyle Detection/Tensorflow Object Detection/TFODCourse/Tensorflow/workspace/images/asleep\\16H-2M-50S.xml\n",
      "Image:C:\\Users\\timli\\Kyle Detection\\Tensorflow Object Detection\\TFODCourse\\Tensorflow\\workspace\\images\\asleep\\16H-3M-0S.png -> Annotation:C:/Users/timli/Kyle Detection/Tensorflow Object Detection/TFODCourse/Tensorflow/workspace/images/asleep\\16H-3M-0S.xml\n",
      "Image:C:\\Users\\timli\\Kyle Detection\\Tensorflow Object Detection\\TFODCourse\\Tensorflow\\workspace\\images\\asleep\\16H-3M-10S.png -> Annotation:C:/Users/timli/Kyle Detection/Tensorflow Object Detection/TFODCourse/Tensorflow/workspace/images/asleep\\16H-3M-10S.xml\n",
      "Image:C:\\Users\\timli\\Kyle Detection\\Tensorflow Object Detection\\TFODCourse\\Tensorflow\\workspace\\images\\asleep\\16H-3M-20S.png -> Annotation:C:/Users/timli/Kyle Detection/Tensorflow Object Detection/TFODCourse/Tensorflow/workspace/images/asleep\\16H-3M-20S.xml\n",
      "Image:C:\\Users\\timli\\Kyle Detection\\Tensorflow Object Detection\\TFODCourse\\Tensorflow\\workspace\\images\\asleep\\16H-3M-30S.png -> Annotation:C:/Users/timli/Kyle Detection/Tensorflow Object Detection/TFODCourse/Tensorflow/workspace/images/asleep\\16H-3M-30S.xml\n",
      "Image:C:\\Users\\timli\\Kyle Detection\\Tensorflow Object Detection\\TFODCourse\\Tensorflow\\workspace\\images\\asleep\\16H-3M-40S.png -> Annotation:C:/Users/timli/Kyle Detection/Tensorflow Object Detection/TFODCourse/Tensorflow/workspace/images/asleep\\16H-3M-40S.xml\n",
      "Image:C:\\Users\\timli\\Kyle Detection\\Tensorflow Object Detection\\TFODCourse\\Tensorflow\\workspace\\images\\asleep\\16H-3M-50S.png -> Annotation:C:/Users/timli/Kyle Detection/Tensorflow Object Detection/TFODCourse/Tensorflow/workspace/images/asleep\\16H-3M-50S.xml\n",
      "Image:C:\\Users\\timli\\Kyle Detection\\Tensorflow Object Detection\\TFODCourse\\Tensorflow\\workspace\\images\\asleep\\16H-4M-0S.png -> Annotation:C:/Users/timli/Kyle Detection/Tensorflow Object Detection/TFODCourse/Tensorflow/workspace/images/asleep\\16H-4M-0S.xml\n",
      "Image:C:\\Users\\timli\\Kyle Detection\\Tensorflow Object Detection\\TFODCourse\\Tensorflow\\workspace\\images\\asleep\\16H-4M-10S.png -> Annotation:C:/Users/timli/Kyle Detection/Tensorflow Object Detection/TFODCourse/Tensorflow/workspace/images/asleep\\16H-4M-10S.xml\n",
      "Image:C:\\Users\\timli\\Kyle Detection\\Tensorflow Object Detection\\TFODCourse\\Tensorflow\\workspace\\images\\asleep\\16H-5M-30S.png -> Annotation:C:/Users/timli/Kyle Detection/Tensorflow Object Detection/TFODCourse/Tensorflow/workspace/images/asleep\\16H-5M-30S.xml\n",
      "Image:C:\\Users\\timli\\Kyle Detection\\Tensorflow Object Detection\\TFODCourse\\Tensorflow\\workspace\\images\\asleep\\16H-6M-0S.png -> Annotation:C:/Users/timli/Kyle Detection/Tensorflow Object Detection/TFODCourse/Tensorflow/workspace/images/asleep\\16H-6M-0S.xml\n",
      "Image:C:\\Users\\timli\\Kyle Detection\\Tensorflow Object Detection\\TFODCourse\\Tensorflow\\workspace\\images\\asleep\\16H-6M-20S.png -> Annotation:C:/Users/timli/Kyle Detection/Tensorflow Object Detection/TFODCourse/Tensorflow/workspace/images/asleep\\16H-6M-20S.xml\n",
      "Image:C:\\Users\\timli\\Kyle Detection\\Tensorflow Object Detection\\TFODCourse\\Tensorflow\\workspace\\images\\asleep\\16H-6M-30S.png -> Annotation:C:/Users/timli/Kyle Detection/Tensorflow Object Detection/TFODCourse/Tensorflow/workspace/images/asleep\\16H-6M-30S.xml\n",
      "Image:C:\\Users\\timli\\Kyle Detection\\Tensorflow Object Detection\\TFODCourse\\Tensorflow\\workspace\\images\\asleep\\16H-6M-40S.png -> Annotation:C:/Users/timli/Kyle Detection/Tensorflow Object Detection/TFODCourse/Tensorflow/workspace/images/asleep\\16H-6M-40S.xml\n",
      "Image:C:\\Users\\timli\\Kyle Detection\\Tensorflow Object Detection\\TFODCourse\\Tensorflow\\workspace\\images\\asleep\\16H-6M-50S.png -> Annotation:C:/Users/timli/Kyle Detection/Tensorflow Object Detection/TFODCourse/Tensorflow/workspace/images/asleep\\16H-6M-50S.xml\n",
      "Image:C:\\Users\\timli\\Kyle Detection\\Tensorflow Object Detection\\TFODCourse\\Tensorflow\\workspace\\images\\asleep\\16H-7M-0S.png -> Annotation:C:/Users/timli/Kyle Detection/Tensorflow Object Detection/TFODCourse/Tensorflow/workspace/images/asleep\\16H-7M-0S.xml\n",
      "Image:C:\\Users\\timli\\Kyle Detection\\Tensorflow Object Detection\\TFODCourse\\Tensorflow\\workspace\\images\\asleep\\16H-7M-30S.png -> Annotation:C:/Users/timli/Kyle Detection/Tensorflow Object Detection/TFODCourse/Tensorflow/workspace/images/asleep\\16H-7M-30S.xml\n",
      "Image:C:\\Users\\timli\\Kyle Detection\\Tensorflow Object Detection\\TFODCourse\\Tensorflow\\workspace\\images\\asleep\\16H-7M-40S.png -> Annotation:C:/Users/timli/Kyle Detection/Tensorflow Object Detection/TFODCourse/Tensorflow/workspace/images/asleep\\16H-7M-40S.xml\n",
      "Image:C:\\Users\\timli\\Kyle Detection\\Tensorflow Object Detection\\TFODCourse\\Tensorflow\\workspace\\images\\asleep\\16H-7M-50S.png -> Annotation:C:/Users/timli/Kyle Detection/Tensorflow Object Detection/TFODCourse/Tensorflow/workspace/images/asleep\\16H-7M-50S.xml\n",
      "Image:C:\\Users\\timli\\Kyle Detection\\Tensorflow Object Detection\\TFODCourse\\Tensorflow\\workspace\\images\\asleep\\16H-8M-0S.png -> Annotation:C:/Users/timli/Kyle Detection/Tensorflow Object Detection/TFODCourse/Tensorflow/workspace/images/asleep\\16H-8M-0S.xml\n",
      "Image:C:\\Users\\timli\\Kyle Detection\\Tensorflow Object Detection\\TFODCourse\\Tensorflow\\workspace\\images\\asleep\\16H-8M-10S.png -> Annotation:C:/Users/timli/Kyle Detection/Tensorflow Object Detection/TFODCourse/Tensorflow/workspace/images/asleep\\16H-8M-10S.xml\n",
      "Image:C:\\Users\\timli\\Kyle Detection\\Tensorflow Object Detection\\TFODCourse\\Tensorflow\\workspace\\images\\asleep\\16H-8M-20S.png -> Annotation:C:/Users/timli/Kyle Detection/Tensorflow Object Detection/TFODCourse/Tensorflow/workspace/images/asleep\\16H-8M-20S.xml\n",
      "Image:C:\\Users\\timli\\Kyle Detection\\Tensorflow Object Detection\\TFODCourse\\Tensorflow\\workspace\\images\\asleep\\16H-8M-30S.png -> Annotation:C:/Users/timli/Kyle Detection/Tensorflow Object Detection/TFODCourse/Tensorflow/workspace/images/asleep\\16H-8M-30S.xml\n",
      "Image:C:\\Users\\timli\\Kyle Detection\\Tensorflow Object Detection\\TFODCourse\\Tensorflow\\workspace\\images\\asleep\\16H-8M-40S.png -> Annotation:C:/Users/timli/Kyle Detection/Tensorflow Object Detection/TFODCourse/Tensorflow/workspace/images/asleep\\16H-8M-40S.xml\n",
      "Image:C:\\Users\\timli\\Kyle Detection\\Tensorflow Object Detection\\TFODCourse\\Tensorflow\\workspace\\images\\asleep\\16H-8M-50S.png -> Annotation:C:/Users/timli/Kyle Detection/Tensorflow Object Detection/TFODCourse/Tensorflow/workspace/images/asleep\\16H-8M-50S.xml\n",
      "Image:C:\\Users\\timli\\Kyle Detection\\Tensorflow Object Detection\\TFODCourse\\Tensorflow\\workspace\\images\\asleep\\16H-9M-0S.png -> Annotation:C:/Users/timli/Kyle Detection/Tensorflow Object Detection/TFODCourse/Tensorflow/workspace/images/asleep\\16H-9M-0S.xml\n",
      "Image:C:\\Users\\timli\\Kyle Detection\\Tensorflow Object Detection\\TFODCourse\\Tensorflow\\workspace\\images\\asleep\\16H-9M-10S.png -> Annotation:C:/Users/timli/Kyle Detection/Tensorflow Object Detection/TFODCourse/Tensorflow/workspace/images/asleep\\16H-9M-10S.xml\n",
      "Image:C:\\Users\\timli\\Kyle Detection\\Tensorflow Object Detection\\TFODCourse\\Tensorflow\\workspace\\images\\asleep\\16H-9M-20S.png -> Annotation:C:/Users/timli/Kyle Detection/Tensorflow Object Detection/TFODCourse/Tensorflow/workspace/images/asleep\\16H-9M-20S.xml\n",
      "Image:C:\\Users\\timli\\Kyle Detection\\Tensorflow Object Detection\\TFODCourse\\Tensorflow\\workspace\\images\\asleep\\16H-9M-30S.png -> Annotation:C:/Users/timli/Kyle Detection/Tensorflow Object Detection/TFODCourse/Tensorflow/workspace/images/asleep\\16H-9M-30S.xml\n",
      "Image:C:\\Users\\timli\\Kyle Detection\\Tensorflow Object Detection\\TFODCourse\\Tensorflow\\workspace\\images\\asleep\\16H-9M-40S.png -> Annotation:C:/Users/timli/Kyle Detection/Tensorflow Object Detection/TFODCourse/Tensorflow/workspace/images/asleep\\16H-9M-40S.xml\n",
      "Image:C:\\Users\\timli\\Kyle Detection\\Tensorflow Object Detection\\TFODCourse\\Tensorflow\\workspace\\images\\asleep\\16H-9M-50S.png -> Annotation:C:/Users/timli/Kyle Detection/Tensorflow Object Detection/TFODCourse/Tensorflow/workspace/images/asleep\\16H-9M-50S.xml\n",
      "Image:C:\\Users\\timli\\Kyle Detection\\Tensorflow Object Detection\\TFODCourse\\Tensorflow\\workspace\\images\\asleep\\16H-10M-0S.png -> Annotation:C:/Users/timli/Kyle Detection/Tensorflow Object Detection/TFODCourse/Tensorflow/workspace/images/asleep\\16H-10M-0S.xml\n",
      "Image:C:\\Users\\timli\\Kyle Detection\\Tensorflow Object Detection\\TFODCourse\\Tensorflow\\workspace\\images\\asleep\\16H-10M-10S.png -> Annotation:C:/Users/timli/Kyle Detection/Tensorflow Object Detection/TFODCourse/Tensorflow/workspace/images/asleep\\16H-10M-10S.xml\n",
      "Image:C:\\Users\\timli\\Kyle Detection\\Tensorflow Object Detection\\TFODCourse\\Tensorflow\\workspace\\images\\asleep\\16H-10M-20S.png -> Annotation:C:/Users/timli/Kyle Detection/Tensorflow Object Detection/TFODCourse/Tensorflow/workspace/images/asleep\\16H-10M-20S.xml\n",
      "Image:C:\\Users\\timli\\Kyle Detection\\Tensorflow Object Detection\\TFODCourse\\Tensorflow\\workspace\\images\\asleep\\16H-10M-30S.png -> Annotation:C:/Users/timli/Kyle Detection/Tensorflow Object Detection/TFODCourse/Tensorflow/workspace/images/asleep\\16H-10M-30S.xml\n",
      "Image:C:\\Users\\timli\\Kyle Detection\\Tensorflow Object Detection\\TFODCourse\\Tensorflow\\workspace\\images\\asleep\\16H-10M-40S.png -> Annotation:C:/Users/timli/Kyle Detection/Tensorflow Object Detection/TFODCourse/Tensorflow/workspace/images/asleep\\16H-10M-40S.xml\n",
      "Image:C:\\Users\\timli\\Kyle Detection\\Tensorflow Object Detection\\TFODCourse\\Tensorflow\\workspace\\images\\asleep\\16H-10M-50S.png -> Annotation:C:/Users/timli/Kyle Detection/Tensorflow Object Detection/TFODCourse/Tensorflow/workspace/images/asleep\\16H-10M-50S.xml\n",
      "Image:C:\\Users\\timli\\Kyle Detection\\Tensorflow Object Detection\\TFODCourse\\Tensorflow\\workspace\\images\\asleep\\16H-11M-0S.png -> Annotation:C:/Users/timli/Kyle Detection/Tensorflow Object Detection/TFODCourse/Tensorflow/workspace/images/asleep\\16H-11M-0S.xml\n",
      "Image:C:\\Users\\timli\\Kyle Detection\\Tensorflow Object Detection\\TFODCourse\\Tensorflow\\workspace\\images\\asleep\\16H-11M-10S.png -> Annotation:C:/Users/timli/Kyle Detection/Tensorflow Object Detection/TFODCourse/Tensorflow/workspace/images/asleep\\16H-11M-10S.xml\n",
      "Cancel creation.\n",
      "Image:C:\\Users\\timli\\Kyle Detection\\Tensorflow Object Detection\\TFODCourse\\Tensorflow\\workspace\\images\\asleep\\16H-11M-20S.png -> Annotation:C:/Users/timli/Kyle Detection/Tensorflow Object Detection/TFODCourse/Tensorflow/workspace/images/asleep\\16H-11M-20S.xml\n",
      "Image:C:\\Users\\timli\\Kyle Detection\\Tensorflow Object Detection\\TFODCourse\\Tensorflow\\workspace\\images\\asleep\\16H-11M-30S.png -> Annotation:C:/Users/timli/Kyle Detection/Tensorflow Object Detection/TFODCourse/Tensorflow/workspace/images/asleep\\16H-11M-30S.xml\n",
      "Image:C:\\Users\\timli\\Kyle Detection\\Tensorflow Object Detection\\TFODCourse\\Tensorflow\\workspace\\images\\asleep\\16H-11M-40S.png -> Annotation:C:/Users/timli/Kyle Detection/Tensorflow Object Detection/TFODCourse/Tensorflow/workspace/images/asleep\\16H-11M-40S.xml\n",
      "Image:C:\\Users\\timli\\Kyle Detection\\Tensorflow Object Detection\\TFODCourse\\Tensorflow\\workspace\\images\\asleep\\16H-11M-50S.png -> Annotation:C:/Users/timli/Kyle Detection/Tensorflow Object Detection/TFODCourse/Tensorflow/workspace/images/asleep\\16H-11M-50S.xml\n",
      "Image:C:\\Users\\timli\\Kyle Detection\\Tensorflow Object Detection\\TFODCourse\\Tensorflow\\workspace\\images\\asleep\\16H-12M-10S.png -> Annotation:C:/Users/timli/Kyle Detection/Tensorflow Object Detection/TFODCourse/Tensorflow/workspace/images/asleep\\16H-12M-10S.xml\n",
      "Image:C:\\Users\\timli\\Kyle Detection\\Tensorflow Object Detection\\TFODCourse\\Tensorflow\\workspace\\images\\asleep\\16H-12M-20S.png -> Annotation:C:/Users/timli/Kyle Detection/Tensorflow Object Detection/TFODCourse/Tensorflow/workspace/images/asleep\\16H-12M-20S.xml\n",
      "Image:C:\\Users\\timli\\Kyle Detection\\Tensorflow Object Detection\\TFODCourse\\Tensorflow\\workspace\\images\\asleep\\16H-12M-30S.png -> Annotation:C:/Users/timli/Kyle Detection/Tensorflow Object Detection/TFODCourse/Tensorflow/workspace/images/asleep\\16H-12M-30S.xml\n",
      "Image:C:\\Users\\timli\\Kyle Detection\\Tensorflow Object Detection\\TFODCourse\\Tensorflow\\workspace\\images\\asleep\\16H-12M-40S.png -> Annotation:C:/Users/timli/Kyle Detection/Tensorflow Object Detection/TFODCourse/Tensorflow/workspace/images/asleep\\16H-12M-40S.xml\n",
      "Image:C:\\Users\\timli\\Kyle Detection\\Tensorflow Object Detection\\TFODCourse\\Tensorflow\\workspace\\images\\asleep\\16H-12M-50S.png -> Annotation:C:/Users/timli/Kyle Detection/Tensorflow Object Detection/TFODCourse/Tensorflow/workspace/images/asleep\\16H-12M-50S.xml\n",
      "Image:C:\\Users\\timli\\Kyle Detection\\Tensorflow Object Detection\\TFODCourse\\Tensorflow\\workspace\\images\\asleep\\16H-13M-0S.png -> Annotation:C:/Users/timli/Kyle Detection/Tensorflow Object Detection/TFODCourse/Tensorflow/workspace/images/asleep\\16H-13M-0S.xml\n",
      "Image:C:\\Users\\timli\\Kyle Detection\\Tensorflow Object Detection\\TFODCourse\\Tensorflow\\workspace\\images\\asleep\\16H-13M-10S.png -> Annotation:C:/Users/timli/Kyle Detection/Tensorflow Object Detection/TFODCourse/Tensorflow/workspace/images/asleep\\16H-13M-10S.xml\n",
      "Image:C:\\Users\\timli\\Kyle Detection\\Tensorflow Object Detection\\TFODCourse\\Tensorflow\\workspace\\images\\asleep\\16H-13M-20S.png -> Annotation:C:/Users/timli/Kyle Detection/Tensorflow Object Detection/TFODCourse/Tensorflow/workspace/images/asleep\\16H-13M-20S.xml\n",
      "Image:C:\\Users\\timli\\Kyle Detection\\Tensorflow Object Detection\\TFODCourse\\Tensorflow\\workspace\\images\\asleep\\16H-13M-30S.png -> Annotation:C:/Users/timli/Kyle Detection/Tensorflow Object Detection/TFODCourse/Tensorflow/workspace/images/asleep\\16H-13M-30S.xml\n",
      "Image:C:\\Users\\timli\\Kyle Detection\\Tensorflow Object Detection\\TFODCourse\\Tensorflow\\workspace\\images\\asleep\\16H-13M-40S.png -> Annotation:C:/Users/timli/Kyle Detection/Tensorflow Object Detection/TFODCourse/Tensorflow/workspace/images/asleep\\16H-13M-40S.xml\n",
      "Image:C:\\Users\\timli\\Kyle Detection\\Tensorflow Object Detection\\TFODCourse\\Tensorflow\\workspace\\images\\asleep\\16H-13M-50S.png -> Annotation:C:/Users/timli/Kyle Detection/Tensorflow Object Detection/TFODCourse/Tensorflow/workspace/images/asleep\\16H-13M-50S.xml\n",
      "Image:C:\\Users\\timli\\Kyle Detection\\Tensorflow Object Detection\\TFODCourse\\Tensorflow\\workspace\\images\\asleep\\16H-14M-0S.png -> Annotation:C:/Users/timli/Kyle Detection/Tensorflow Object Detection/TFODCourse/Tensorflow/workspace/images/asleep\\16H-14M-0S.xml\n",
      "Image:C:\\Users\\timli\\Kyle Detection\\Tensorflow Object Detection\\TFODCourse\\Tensorflow\\workspace\\images\\asleep\\16H-14M-10S.png -> Annotation:C:/Users/timli/Kyle Detection/Tensorflow Object Detection/TFODCourse/Tensorflow/workspace/images/asleep\\16H-14M-10S.xml\n",
      "Image:C:\\Users\\timli\\Kyle Detection\\Tensorflow Object Detection\\TFODCourse\\Tensorflow\\workspace\\images\\asleep\\16H-14M-20S.png -> Annotation:C:/Users/timli/Kyle Detection/Tensorflow Object Detection/TFODCourse/Tensorflow/workspace/images/asleep\\16H-14M-20S.xml\n",
      "Image:C:\\Users\\timli\\Kyle Detection\\Tensorflow Object Detection\\TFODCourse\\Tensorflow\\workspace\\images\\asleep\\16H-14M-30S.png -> Annotation:C:/Users/timli/Kyle Detection/Tensorflow Object Detection/TFODCourse/Tensorflow/workspace/images/asleep\\16H-14M-30S.xml\n",
      "Image:C:\\Users\\timli\\Kyle Detection\\Tensorflow Object Detection\\TFODCourse\\Tensorflow\\workspace\\images\\asleep\\16H-14M-40S.png -> Annotation:C:/Users/timli/Kyle Detection/Tensorflow Object Detection/TFODCourse/Tensorflow/workspace/images/asleep\\16H-14M-40S.xml\n",
      "Image:C:\\Users\\timli\\Kyle Detection\\Tensorflow Object Detection\\TFODCourse\\Tensorflow\\workspace\\images\\asleep\\16H-14M-50S.png -> Annotation:C:/Users/timli/Kyle Detection/Tensorflow Object Detection/TFODCourse/Tensorflow/workspace/images/asleep\\16H-14M-50S.xml\n",
      "Image:C:\\Users\\timli\\Kyle Detection\\Tensorflow Object Detection\\TFODCourse\\Tensorflow\\workspace\\images\\asleep\\16H-15M-0S.png -> Annotation:C:/Users/timli/Kyle Detection/Tensorflow Object Detection/TFODCourse/Tensorflow/workspace/images/asleep\\16H-15M-0S.xml\n",
      "Image:C:\\Users\\timli\\Kyle Detection\\Tensorflow Object Detection\\TFODCourse\\Tensorflow\\workspace\\images\\asleep\\16H-15M-10S.png -> Annotation:C:/Users/timli/Kyle Detection/Tensorflow Object Detection/TFODCourse/Tensorflow/workspace/images/asleep\\16H-15M-10S.xml\n",
      "Image:C:\\Users\\timli\\Kyle Detection\\Tensorflow Object Detection\\TFODCourse\\Tensorflow\\workspace\\images\\asleep\\16H-15M-20S.png -> Annotation:C:/Users/timli/Kyle Detection/Tensorflow Object Detection/TFODCourse/Tensorflow/workspace/images/asleep\\16H-15M-20S.xml\n",
      "Image:C:\\Users\\timli\\Kyle Detection\\Tensorflow Object Detection\\TFODCourse\\Tensorflow\\workspace\\images\\asleep\\16H-15M-30S.png -> Annotation:C:/Users/timli/Kyle Detection/Tensorflow Object Detection/TFODCourse/Tensorflow/workspace/images/asleep\\16H-15M-30S.xml\n",
      "Image:C:\\Users\\timli\\Kyle Detection\\Tensorflow Object Detection\\TFODCourse\\Tensorflow\\workspace\\images\\asleep\\16H-15M-40S.png -> Annotation:C:/Users/timli/Kyle Detection/Tensorflow Object Detection/TFODCourse/Tensorflow/workspace/images/asleep\\16H-15M-40S.xml\n",
      "Image:C:\\Users\\timli\\Kyle Detection\\Tensorflow Object Detection\\TFODCourse\\Tensorflow\\workspace\\images\\asleep\\16H-15M-50S.png -> Annotation:C:/Users/timli/Kyle Detection/Tensorflow Object Detection/TFODCourse/Tensorflow/workspace/images/asleep\\16H-15M-50S.xml\n",
      "Image:C:\\Users\\timli\\Kyle Detection\\Tensorflow Object Detection\\TFODCourse\\Tensorflow\\workspace\\images\\asleep\\16H-16M-0S.png -> Annotation:C:/Users/timli/Kyle Detection/Tensorflow Object Detection/TFODCourse/Tensorflow/workspace/images/asleep\\16H-16M-0S.xml\n",
      "Image:C:\\Users\\timli\\Kyle Detection\\Tensorflow Object Detection\\TFODCourse\\Tensorflow\\workspace\\images\\asleep\\16H-16M-10S.png -> Annotation:C:/Users/timli/Kyle Detection/Tensorflow Object Detection/TFODCourse/Tensorflow/workspace/images/asleep\\16H-16M-10S.xml\n",
      "Image:C:\\Users\\timli\\Kyle Detection\\Tensorflow Object Detection\\TFODCourse\\Tensorflow\\workspace\\images\\asleep\\16H-16M-20S.png -> Annotation:C:/Users/timli/Kyle Detection/Tensorflow Object Detection/TFODCourse/Tensorflow/workspace/images/asleep\\16H-16M-20S.xml\n",
      "Image:C:\\Users\\timli\\Kyle Detection\\Tensorflow Object Detection\\TFODCourse\\Tensorflow\\workspace\\images\\asleep\\16H-16M-30S.png -> Annotation:C:/Users/timli/Kyle Detection/Tensorflow Object Detection/TFODCourse/Tensorflow/workspace/images/asleep\\16H-16M-30S.xml\n",
      "Image:C:\\Users\\timli\\Kyle Detection\\Tensorflow Object Detection\\TFODCourse\\Tensorflow\\workspace\\images\\asleep\\16H-16M-40S.png -> Annotation:C:/Users/timli/Kyle Detection/Tensorflow Object Detection/TFODCourse/Tensorflow/workspace/images/asleep\\16H-16M-40S.xml\n",
      "Image:C:\\Users\\timli\\Kyle Detection\\Tensorflow Object Detection\\TFODCourse\\Tensorflow\\workspace\\images\\asleep\\16H-17M-0S.png -> Annotation:C:/Users/timli/Kyle Detection/Tensorflow Object Detection/TFODCourse/Tensorflow/workspace/images/asleep\\16H-17M-0S.xml\n",
      "Image:C:\\Users\\timli\\Kyle Detection\\Tensorflow Object Detection\\TFODCourse\\Tensorflow\\workspace\\images\\asleep\\16H-17M-10S.png -> Annotation:C:/Users/timli/Kyle Detection/Tensorflow Object Detection/TFODCourse/Tensorflow/workspace/images/asleep\\16H-17M-10S.xml\n",
      "Image:C:\\Users\\timli\\Kyle Detection\\Tensorflow Object Detection\\TFODCourse\\Tensorflow\\workspace\\images\\asleep\\16H-17M-20S.png -> Annotation:C:/Users/timli/Kyle Detection/Tensorflow Object Detection/TFODCourse/Tensorflow/workspace/images/asleep\\16H-17M-20S.xml\n",
      "Image:C:\\Users\\timli\\Kyle Detection\\Tensorflow Object Detection\\TFODCourse\\Tensorflow\\workspace\\images\\asleep\\16H-17M-20S.png -> Annotation:C:/Users/timli/Kyle Detection/Tensorflow Object Detection/TFODCourse/Tensorflow/workspace/images/asleep\\16H-17M-20S.xml\n",
      "Image:C:\\Users\\timli\\Kyle Detection\\Tensorflow Object Detection\\TFODCourse\\Tensorflow\\workspace\\images\\asleep\\16H-17M-30S.png -> Annotation:C:/Users/timli/Kyle Detection/Tensorflow Object Detection/TFODCourse/Tensorflow/workspace/images/asleep\\16H-17M-30S.xml\n",
      "Image:C:\\Users\\timli\\Kyle Detection\\Tensorflow Object Detection\\TFODCourse\\Tensorflow\\workspace\\images\\asleep\\16H-17M-40S.png -> Annotation:C:/Users/timli/Kyle Detection/Tensorflow Object Detection/TFODCourse/Tensorflow/workspace/images/asleep\\16H-17M-40S.xml\n",
      "Image:C:\\Users\\timli\\Kyle Detection\\Tensorflow Object Detection\\TFODCourse\\Tensorflow\\workspace\\images\\asleep\\16H-17M-50S.png -> Annotation:C:/Users/timli/Kyle Detection/Tensorflow Object Detection/TFODCourse/Tensorflow/workspace/images/asleep\\16H-17M-50S.xml\n",
      "Image:C:\\Users\\timli\\Kyle Detection\\Tensorflow Object Detection\\TFODCourse\\Tensorflow\\workspace\\images\\asleep\\16H-18M-0S.png -> Annotation:C:/Users/timli/Kyle Detection/Tensorflow Object Detection/TFODCourse/Tensorflow/workspace/images/asleep\\16H-18M-0S.xml\n",
      "Image:C:\\Users\\timli\\Kyle Detection\\Tensorflow Object Detection\\TFODCourse\\Tensorflow\\workspace\\images\\asleep\\16H-18M-10S.png -> Annotation:C:/Users/timli/Kyle Detection/Tensorflow Object Detection/TFODCourse/Tensorflow/workspace/images/asleep\\16H-18M-10S.xml\n",
      "Image:C:\\Users\\timli\\Kyle Detection\\Tensorflow Object Detection\\TFODCourse\\Tensorflow\\workspace\\images\\asleep\\16H-18M-20S.png -> Annotation:C:/Users/timli/Kyle Detection/Tensorflow Object Detection/TFODCourse/Tensorflow/workspace/images/asleep\\16H-18M-20S.xml\n",
      "Image:C:\\Users\\timli\\Kyle Detection\\Tensorflow Object Detection\\TFODCourse\\Tensorflow\\workspace\\images\\asleep\\16H-18M-30S.png -> Annotation:C:/Users/timli/Kyle Detection/Tensorflow Object Detection/TFODCourse/Tensorflow/workspace/images/asleep\\16H-18M-30S.xml\n",
      "Image:C:\\Users\\timli\\Kyle Detection\\Tensorflow Object Detection\\TFODCourse\\Tensorflow\\workspace\\images\\asleep\\16H-18M-40S.png -> Annotation:C:/Users/timli/Kyle Detection/Tensorflow Object Detection/TFODCourse/Tensorflow/workspace/images/asleep\\16H-18M-40S.xml\n",
      "Image:C:\\Users\\timli\\Kyle Detection\\Tensorflow Object Detection\\TFODCourse\\Tensorflow\\workspace\\images\\asleep\\16H-18M-50S.png -> Annotation:C:/Users/timli/Kyle Detection/Tensorflow Object Detection/TFODCourse/Tensorflow/workspace/images/asleep\\16H-18M-50S.xml\n",
      "Image:C:\\Users\\timli\\Kyle Detection\\Tensorflow Object Detection\\TFODCourse\\Tensorflow\\workspace\\images\\asleep\\16H-19M-0S.png -> Annotation:C:/Users/timli/Kyle Detection/Tensorflow Object Detection/TFODCourse/Tensorflow/workspace/images/asleep\\16H-19M-0S.xml\n",
      "Image:C:\\Users\\timli\\Kyle Detection\\Tensorflow Object Detection\\TFODCourse\\Tensorflow\\workspace\\images\\asleep\\16H-19M-10S.png -> Annotation:C:/Users/timli/Kyle Detection/Tensorflow Object Detection/TFODCourse/Tensorflow/workspace/images/asleep\\16H-19M-10S.xml\n",
      "Image:C:\\Users\\timli\\Kyle Detection\\Tensorflow Object Detection\\TFODCourse\\Tensorflow\\workspace\\images\\asleep\\16H-19M-30S.png -> Annotation:C:/Users/timli/Kyle Detection/Tensorflow Object Detection/TFODCourse/Tensorflow/workspace/images/asleep\\16H-19M-30S.xml\n",
      "Image:C:\\Users\\timli\\Kyle Detection\\Tensorflow Object Detection\\TFODCourse\\Tensorflow\\workspace\\images\\asleep\\16H-19M-40S.png -> Annotation:C:/Users/timli/Kyle Detection/Tensorflow Object Detection/TFODCourse/Tensorflow/workspace/images/asleep\\16H-19M-40S.xml\n",
      "Image:C:\\Users\\timli\\Kyle Detection\\Tensorflow Object Detection\\TFODCourse\\Tensorflow\\workspace\\images\\asleep\\16H-19M-50S.png -> Annotation:C:/Users/timli/Kyle Detection/Tensorflow Object Detection/TFODCourse/Tensorflow/workspace/images/asleep\\16H-19M-50S.xml\n",
      "Image:C:\\Users\\timli\\Kyle Detection\\Tensorflow Object Detection\\TFODCourse\\Tensorflow\\workspace\\images\\asleep\\16H-19M-40S.png -> Annotation:C:/Users/timli/Kyle Detection/Tensorflow Object Detection/TFODCourse/Tensorflow/workspace/images/asleep\\16H-19M-40S.xml\n",
      "Image:C:\\Users\\timli\\Kyle Detection\\Tensorflow Object Detection\\TFODCourse\\Tensorflow\\workspace\\images\\asleep\\16H-19M-30S.png -> Annotation:C:/Users/timli/Kyle Detection/Tensorflow Object Detection/TFODCourse/Tensorflow/workspace/images/asleep\\16H-19M-30S.xml\n",
      "Image:C:\\Users\\timli\\Kyle Detection\\Tensorflow Object Detection\\TFODCourse\\Tensorflow\\workspace\\images\\asleep\\16H-19M-30S.png -> Annotation:C:/Users/timli/Kyle Detection/Tensorflow Object Detection/TFODCourse/Tensorflow/workspace/images/asleep\\16H-19M-30S.xml\n",
      "Image:C:\\Users\\timli\\Kyle Detection\\Tensorflow Object Detection\\TFODCourse\\Tensorflow\\workspace\\images\\asleep\\16H-19M-30S.png -> Annotation:C:/Users/timli/Kyle Detection/Tensorflow Object Detection/TFODCourse/Tensorflow/workspace/images/asleep\\16H-19M-30S.xml\n",
      "Image:C:\\Users\\timli\\Kyle Detection\\Tensorflow Object Detection\\TFODCourse\\Tensorflow\\workspace\\images\\asleep\\16H-19M-40S.png -> Annotation:C:/Users/timli/Kyle Detection/Tensorflow Object Detection/TFODCourse/Tensorflow/workspace/images/asleep\\16H-19M-40S.xml\n",
      "Image:C:\\Users\\timli\\Kyle Detection\\Tensorflow Object Detection\\TFODCourse\\Tensorflow\\workspace\\images\\asleep\\16H-19M-50S.png -> Annotation:C:/Users/timli/Kyle Detection/Tensorflow Object Detection/TFODCourse/Tensorflow/workspace/images/asleep\\16H-19M-50S.xml\n",
      "Image:C:\\Users\\timli\\Kyle Detection\\Tensorflow Object Detection\\TFODCourse\\Tensorflow\\workspace\\images\\asleep\\16H-19M-30S.png -> Annotation:C:/Users/timli/Kyle Detection/Tensorflow Object Detection/TFODCourse/Tensorflow/workspace/images/asleep\\16H-19M-30S.xml\n",
      "Image:C:\\Users\\timli\\Kyle Detection\\Tensorflow Object Detection\\TFODCourse\\Tensorflow\\workspace\\images\\asleep\\16H-16M-10S.png -> Annotation:C:/Users/timli/Kyle Detection/Tensorflow Object Detection/TFODCourse/Tensorflow/workspace/images/asleep\\16H-16M-10S.xml\n",
      "Image:C:\\Users\\timli\\Kyle Detection\\Tensorflow Object Detection\\TFODCourse\\Tensorflow\\workspace\\images\\asleep\\16H-6M-10S.png -> Annotation:C:/Users/timli/Kyle Detection/Tensorflow Object Detection/TFODCourse/Tensorflow/workspace/images/asleep\\16H-6M-10S.xml\n",
      "Image:C:\\Users\\timli\\Kyle Detection\\Tensorflow Object Detection\\TFODCourse\\Tensorflow\\workspace\\images\\asleep\\16H-12M-0S.png -> Annotation:C:/Users/timli/Kyle Detection/Tensorflow Object Detection/TFODCourse/Tensorflow/workspace/images/asleep\\16H-12M-0S.xml\n"
     ]
    }
   ],
   "source": [
    "!cd {LABELIMG_PATH} && python labelImg.py"
   ]
  },
  {
   "cell_type": "markdown",
   "metadata": {},
   "source": [
    "# 6. Move them into a Training and Testing Partition"
   ]
  },
  {
   "cell_type": "markdown",
   "metadata": {},
   "source": [
    "# OPTIONAL - 7. Compress them for Colab Training"
   ]
  },
  {
   "cell_type": "code",
   "execution_count": 20,
   "metadata": {},
   "outputs": [],
   "source": [
    "TRAIN_PATH = os.path.join('Tensorflow', 'workspace', 'images', 'train')\n",
    "TEST_PATH = os.path.join('Tensorflow', 'workspace', 'images', 'test')\n",
    "ARCHIVE_PATH = os.path.join('Tensorflow', 'workspace', 'images', 'archive.tar.gz')"
   ]
  },
  {
   "cell_type": "code",
   "execution_count": 21,
   "metadata": {},
   "outputs": [],
   "source": [
    "!tar -czf {ARCHIVE_PATH} {TRAIN_PATH} {TEST_PATH}"
   ]
  },
  {
   "cell_type": "code",
   "execution_count": null,
   "metadata": {},
   "outputs": [],
   "source": []
  }
 ],
 "metadata": {
  "kernelspec": {
   "display_name": "ImageDetection",
   "language": "python",
   "name": "python3"
  },
  "language_info": {
   "codemirror_mode": {
    "name": "ipython",
    "version": 3
   },
   "file_extension": ".py",
   "mimetype": "text/x-python",
   "name": "python",
   "nbconvert_exporter": "python",
   "pygments_lexer": "ipython3",
   "version": "3.9.0"
  }
 },
 "nbformat": 4,
 "nbformat_minor": 2
}
